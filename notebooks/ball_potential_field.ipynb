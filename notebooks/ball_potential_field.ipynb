{
 "cells": [
  {
   "cell_type": "markdown",
   "metadata": {},
   "source": [
    "$$E_p = \\|q_{ball} - q_{target}\\| \\\\E_k = 0; t = 0 \\\\E_k = \\frac{m * V^2}{2} \\\\ \\ddot{q} = \\frac{F}{m}\\\\ F = \\nabla U(q, t) = 2 * (q_{ball} - q_{target})\\\\ \\ddot{q} = \\frac{2 * (q_{ball} - q_{target})}{m}\\\\ L(\\dot{q}, q, t) = E_k - E_p = \\frac{m * V^2}{2} - (q_{ball} - q_{target})^2 \\\\ \\frac{d}{dt} \\frac{dL}{d\\dot{q}} - \\frac{dL}{dq} = 0,\\ no\\ dissipation\\ forces \\\\ m * \\ddot{q} - 2 * (q_{ball} - q_{target}) = 0$$"
   ]
  },
  {
   "cell_type": "markdown",
   "metadata": {},
   "source": [
    "$$ x = x_0 + \\dot{x} * dt \\\\ \\dot{x} = \\dot{x}_0 + \\ddot{x} * dt \\\\ \\ddot{x} = \\frac{2 * x - 2 * x_{target}}{m} $$"
   ]
  },
  {
   "cell_type": "code",
   "execution_count": null,
   "metadata": {},
   "outputs": [],
   "source": [
    "import matplotlib.pyplot as plt\n",
    "import numpy as np"
   ]
  },
  {
   "cell_type": "code",
   "execution_count": null,
   "metadata": {},
   "outputs": [],
   "source": [
    "m = 1\n",
    "x_target = 2\n",
    "x = 0\n",
    "v = 0\n",
    "a = lambda x, x_target, m: (2 * (x_target - x)  / m)\n",
    "\n",
    "xs = []\n",
    "t0 = 0\n",
    "for t1 in np.linspace(0, 15, 4000):\n",
    "    t = t1 - t0\n",
    "    a_curr = a(x, x_target, m)\n",
    "    v += a_curr * t\n",
    "    x += v * t\n",
    "    xs.append(x)\n",
    "    t0 = t1\n",
    "    print(f'acceleration {a_curr:.4f}, speed {v:.4f}, coordunate {x:.4f}, potential {(x_target - x)**2:.4f}')"
   ]
  },
  {
   "cell_type": "code",
   "execution_count": null,
   "metadata": {},
   "outputs": [],
   "source": [
    "plt.plot(xs)"
   ]
  },
  {
   "cell_type": "code",
   "execution_count": null,
   "metadata": {},
   "outputs": [],
   "source": []
  }
 ],
 "metadata": {
  "kernelspec": {
   "display_name": "Python 3",
   "language": "python",
   "name": "python3"
  },
  "language_info": {
   "codemirror_mode": {
    "name": "ipython",
    "version": 3
   },
   "file_extension": ".py",
   "mimetype": "text/x-python",
   "name": "python",
   "nbconvert_exporter": "python",
   "pygments_lexer": "ipython3",
   "version": "3.8.2"
  }
 },
 "nbformat": 4,
 "nbformat_minor": 4
}
