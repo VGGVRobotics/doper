{
 "cells": [
  {
   "cell_type": "markdown",
   "metadata": {},
   "source": [
    "$$E_p = \\|q_{ball} - q_{target}\\| \\\\E_k = 0; t = 0 \\\\E_k = \\frac{m * V^2}{2} \\\\ \\ddot{q} = \\frac{F}{m}\\\\ F = \\nabla U(q, t) = 2 * (q_{ball} - q_{target})\\\\ \\ddot{q} = \\frac{2 * (q_{ball} - q_{target})}{m}\\\\ L(\\dot{q}, q, t) = E_k - E_p = \\frac{m * V^2}{2} - (q_{ball} - q_{target})^2 \\\\ \\frac{d}{dt} \\frac{dL}{d\\dot{q}} - \\frac{dL}{dq} = 0,\\ no\\ dissipation\\ forces \\\\ m * \\ddot{q} - 2 * (q_{ball} - q_{target}) = 0 \\\\ F_{rolling\\ friction} = \\frac{f}{N} * R \\\\ \\ddot{q} = \\frac{2 * (q_{ball} - q_{target}) - sign(\\dot{q}) * F_{rolling\\ friction}}{m}$$"
   ]
  },
  {
   "cell_type": "markdown",
   "metadata": {},
   "source": [
    "$$ x = x_0 + \\dot{x} * dt \\\\ \\dot{x} = \\dot{x}_0 + \\ddot{x} * dt \\\\ \\ddot{x} = \\frac{2 * x - 2 * x_{target} - sign(\\dot{x}) * F_{rolling\\ friction}}{m} $$"
   ]
  },
  {
   "cell_type": "code",
   "execution_count": null,
   "metadata": {},
   "outputs": [],
   "source": [
    "import matplotlib.pyplot as plt\n",
    "import numpy as np"
   ]
  },
  {
   "cell_type": "code",
   "execution_count": null,
   "metadata": {},
   "outputs": [],
   "source": [
    "num_steps = 4000\n",
    "max_time = 100\n",
    "time_range = np.linspace(0, max_time, num_steps)\n",
    "\n",
    "R = 0.05\n",
    "V = 4 * np.pi * (R ** 3) / 3\n",
    "ro = 1000\n",
    "m = V * ro\n",
    "g = 9.8\n",
    "f = 0.001\n",
    "N = m * g\n",
    "F_fr = f * N / R\n",
    "\n",
    "x_target = np.array([0, 0], dtype=np.float32)\n",
    "x0 = np.array([2, 1], dtype=np.float32)\n",
    "v0 = np.array([0.3, 0.5], dtype=np.float32)\n",
    "a = lambda x, x_target, m, v: ((2 * (x_target - x) - np.sign(v) * F_fr)  / m)\n",
    "\n",
    "xs = np.zeros((num_steps, 2))\n",
    "t0 = 0\n",
    "x = x0.copy()\n",
    "v = v0.copy()\n",
    "\n",
    "for idx, t1 in enumerate(time_range):\n",
    "    t = t1 - t0\n",
    "    a_curr = a(x, x_target, m, v)\n",
    "    v += a_curr * t\n",
    "    x += v * t\n",
    "    xs[idx] += x\n",
    "    t0 = t1\n",
    "    #print(f'acceleration {a_curr[0]:.2f} {a_curr[1]:.2f}, speed {v[0]:.4f}, coordinate {x[0]:.4f} {x[1]:.4f}, potential {np.mean((x_target - x)**2):.4f}')\n",
    "    "
   ]
  },
  {
   "cell_type": "code",
   "execution_count": null,
   "metadata": {},
   "outputs": [],
   "source": [
    "fig, ax = plt.subplots(1, 1)\n",
    "ax.plot(xs[:, 0], xs[:, 1], '.', alpha=0.1)\n",
    "ax.plot(x0[0], x0[1], 'o')\n",
    "ax.plot(x_target[0], x_target[1], 'o')\n",
    "ax.arrow(x0[0], x0[1], v0[0], v0[1])\n",
    "ax.set_xlim(-x0[0], x0[0] + v0[0] + 0.1);\n",
    "ax.set_ylim(-x0[1], x0[1] + v0[1] + 0.1);"
   ]
  },
  {
   "cell_type": "code",
   "execution_count": null,
   "metadata": {},
   "outputs": [],
   "source": [
    "np.array([(t / max_time, 1., 1.) for t in time_range]).shape"
   ]
  },
  {
   "cell_type": "markdown",
   "metadata": {},
   "source": [
    "### Taichi"
   ]
  },
  {
   "cell_type": "code",
   "execution_count": null,
   "metadata": {},
   "outputs": [],
   "source": [
    "import taichi as ti\n",
    "ti.init(arch=ti.cpu)\n",
    "\n",
    "screen_res = (800, 400)\n",
    "\n",
    "@ti.func\n",
    "def compute_potential(ball_position, target):\n",
    "    return np.mean((ball_position - target) ** 2)\n",
    "\n",
    "@ti.func\n",
    "def compute_acceleration(x, x_target, m, v, F_fr):\n",
    "    return (2 * (x_target - x) - np.sign(v.to_numpy()) * F_fr)  / m\n",
    "\n",
    "@ti.func\n",
    "def update_state():\n",
    "    a_curr = compute_acceleration(x, x_target_ti, m_ti, v, F_fr_ti)\n",
    "    v += a_curr * t\n",
    "    x += v * t\n",
    "\n",
    "@ti.kernel\n",
    "def run_simulation():\n",
    "    for idx, t1 in np.linspace(0, sim_length, num_steps)\n",
    "    \n",
    "def render(gui):\n",
    "    canvas = gui.canvas\n",
    "    canvas.clear(bg_color)\n",
    "    pos_np = x.to_numpy()\n",
    "    gui.circles(pos_np, radius=particle_radius, color=particle_color)\n",
    "    gui.show()\n"
   ]
  },
  {
   "cell_type": "code",
   "execution_count": null,
   "metadata": {},
   "outputs": [],
   "source": [
    "x[0][0] - x_target_ti[0][0]"
   ]
  },
  {
   "cell_type": "code",
   "execution_count": null,
   "metadata": {},
   "outputs": [],
   "source": [
    "compute_acceleration(x, x_target_ti, m_ti, v, F_fr_ti)"
   ]
  },
  {
   "cell_type": "code",
   "execution_count": null,
   "metadata": {},
   "outputs": [],
   "source": [
    "num_steps = 4000\n",
    "max_time = 100\n",
    "dim = 2\n",
    "\n",
    "R = 0.05\n",
    "V = 4 * np.pi * (R ** 3) / 3\n",
    "ro = 1000\n",
    "m = V * ro\n",
    "g = 9.8\n",
    "f = 0.001\n",
    "N = m * g\n",
    "F_fr = f * N / R\n",
    "\n",
    "x_target = np.array([0, 0], dtype=float)\n",
    "x0 = np.array([2, 1], dtype=float)\n",
    "v0 = np.array([0.3, 0.5], dtype=float)\n",
    "\n",
    "xs = np.zeros((num_steps, dim))\n",
    "t0 = 0\n",
    "\n",
    "x = ti.var(dt=ti.f32, shape=(dim))\n",
    "x_target_ti = ti.var(dt=ti.f32, shape=(dim))\n",
    "v = ti.var(dt=ti.f32, shape=(dim))\n",
    "m_ti = ti.var(dt=ti.f32, shape=1)\n",
    "F_fr_ti = ti.var(dt=ti.f32, shape=1)\n",
    "t = ti.var(dt=ti.f32, shape=1)\n",
    "\n",
    "x.from_numpy(x0)\n",
    "x_target_ti.from_numpy(x_target)\n",
    "v.from_numpy(v0)\n",
    "m_ti[0] = m\n",
    "F_fr_ti[0] = F_fr\n",
    "gui = ti.GUI('PBF2D', screen_res)\n",
    "\n",
    "for idx, t1 in enumerate(np.linspace(0, max_time, num_steps)):\n",
    "    t[0] = t1 - t0\n",
    "    update_state()\n",
    "    render(gui)\n",
    "    xs[idx] += x\n",
    "    t0 = t1\n",
    "    #print(f'acceleration {a_curr[0]:.2f} {a_curr[1]:.2f}, speed {v[0]:.4f}, coordinate {x[0]:.4f} {x[1]:.4f}, potential {np.mean((x_target - x)**2):.4f}')\n"
   ]
  },
  {
   "cell_type": "code",
   "execution_count": null,
   "metadata": {},
   "outputs": [],
   "source": [
    "m"
   ]
  }
 ],
 "metadata": {
  "kernelspec": {
   "display_name": "Python 3",
   "language": "python",
   "name": "python3"
  },
  "language_info": {
   "codemirror_mode": {
    "name": "ipython",
    "version": 3
   },
   "file_extension": ".py",
   "mimetype": "text/x-python",
   "name": "python",
   "nbconvert_exporter": "python",
   "pygments_lexer": "ipython3",
   "version": "3.6.7"
  }
 },
 "nbformat": 4,
 "nbformat_minor": 4
}