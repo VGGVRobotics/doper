{
 "cells": [
  {
   "cell_type": "code",
   "execution_count": 1,
   "metadata": {},
   "outputs": [],
   "source": [
    "import matplotlib.pyplot as plt\n",
    "import jax.numpy as np\n",
    "import jax\n",
    "from jax import jit, value_and_grad, grad\n",
    "import numpy as onp\n",
    "import torch\n",
    "import torch.nn as nn"
   ]
  },
  {
   "cell_type": "code",
   "execution_count": 22,
   "metadata": {},
   "outputs": [],
   "source": [
    "@jit\n",
    "def compute_potential_point(coord, target_coord):\n",
    "    return 20 * np.sum((coord - target_coord) ** 2)\n",
    "\n",
    "@jit\n",
    "def compute_rolling_friction_force(velocity, mass, radius, f, g=9.8):\n",
    "    return - np.sign(velocity) * mass * g * radius * f / radius\n",
    "\n",
    "@jit\n",
    "def compute_acceleration(potential_force, friction_force, mass):\n",
    "    return (potential_force + friction_force) / mass\n",
    "\n",
    "@jit\n",
    "def get_new_cv(current_coordinate, current_velocity, acceleration, dt):\n",
    "    new_velocity = current_velocity + acceleration * dt\n",
    "    new_coordinate = current_coordinate + new_velocity * dt\n",
    "    return new_coordinate, new_velocity\n",
    "\n",
    "@jit\n",
    "def run_sim(coordinate_init, velocity_init, target_coordinate, constants):\n",
    "    trajectory = []\n",
    "    sim_time = 0.2\n",
    "    n_steps = 20\n",
    "    dt = sim_time / n_steps\n",
    "    coordinate = coordinate_init\n",
    "    velocity = velocity_init\n",
    "    for t in np.linspace(0, sim_time, n_steps):\n",
    "        trajectory.append(coordinate)\n",
    "        l2_force = - grad(compute_potential_point)(coordinate, target_coordinate)\n",
    "        friction_force = compute_rolling_friction_force(velocity,\n",
    "                                                        constants['mass'],\n",
    "                                                        constants['radius'],\n",
    "                                                        constants['f'])\n",
    "        acceleration = compute_acceleration(l2_force,\n",
    "                                            friction_force,\n",
    "                                            constants['mass'])\n",
    "        coordinate, velocity = get_new_cv(coordinate, velocity, acceleration, dt)\n",
    "    return coordinate, trajectory\n",
    "\n",
    "@jit\n",
    "def compute_loss(coordinate_init, velocity_init, target_coordinate, attractor, constants):\n",
    "    final_coord, _ = run_sim(coordinate_init, velocity_init, attractor, constants)\n",
    "    return np.sum(np.abs(final_coord - target_coordinate))\n"
   ]
  },
  {
   "cell_type": "code",
   "execution_count": 23,
   "metadata": {},
   "outputs": [],
   "source": [
    "from collections import namedtuple\n"
   ]
  },
  {
   "cell_type": "code",
   "execution_count": 24,
   "metadata": {},
   "outputs": [],
   "source": [
    "constants = {}\n",
    "constants['radius'] = 0.05\n",
    "constants['ro'] = 1000.\n",
    "constants['volume'] = 4 * np.pi * (constants['radius'] ** 3) / 3\n",
    "constants['mass'] = constants['volume'] * constants['ro']\n",
    "constants['f'] = 0.007\n",
    "const = namedtuple('Constants', list(constants.keys()))\n",
    "target_coordinate = np.array([[0.5, 0.5], [0.5, 0.5], [0.5, 0.5]])\n",
    "coordinate_init = np.array([[0.2, 0.4], [0.2, 0.4], [0.2, 0.4]])\n",
    "velocity_init = np.array([[1., 0.], [1., 0.1], [1., 0.]])\n",
    "attractor = np.array([[0., 0.], [0., 0.], [0., 0.]])\n",
    "\n",
    "#%time trajectory = run_sim(coordinate_init, velocity_init, coordinate_target, sim_time, n_steps)"
   ]
  },
  {
   "cell_type": "code",
   "execution_count": 25,
   "metadata": {},
   "outputs": [],
   "source": [
    "test = jax.vmap(run_sim, in_axes=(0, 0, 0, None))(coordinate_init, velocity_init, target_coordinate, constants)"
   ]
  },
  {
   "cell_type": "code",
   "execution_count": 28,
   "metadata": {},
   "outputs": [],
   "source": [
    "target_coordinate = np.array([[0.9, 0.5], [0.9, 0.5], [0.9, 0.5]])\n",
    "coordinate_init = np.array([[0.2, 0.4], [0.2, 0.4], [0.5, 0.4]])\n",
    "velocity_init = np.array([[1., 0.1], [1., 0.], [0., 0.]])\n",
    "attractor = np.array([[0., 0.], [0., 0.], [0., 0.]])\n",
    "\n",
    "# from functools import partial\n",
    "# vmap(partial(compute_loss, config=dictionary))(X[i:i+batch], y[i:i+batch])\n",
    "\n",
    "vmapped_loss = jax.vmap(compute_loss, [0, 0, 0, 0, None])\n",
    "v_g_loss = value_and_grad(lambda c,v,t,a,con: np.sum(vmapped_loss(c,v,t,a,con)), 1)"
   ]
  },
  {
   "cell_type": "code",
   "execution_count": 30,
   "metadata": {},
   "outputs": [
    {
     "data": {
      "text/plain": [
       "(DeviceArray(4.421179, dtype=float32),\n",
       " DeviceArray([[-0.11271466, -0.11271466],\n",
       "              [-0.11271466, -0.11271466],\n",
       "              [-0.11271466, -0.11271466]], dtype=float32))"
      ]
     },
     "execution_count": 30,
     "metadata": {},
     "output_type": "execute_result"
    }
   ],
   "source": [
    "v_g_loss(coordinate_init, velocity_init, target_coordinate, attractor, constants)"
   ]
  },
  {
   "cell_type": "code",
   "execution_count": 99,
   "metadata": {},
   "outputs": [
    {
     "ename": "SyntaxError",
     "evalue": "can't use starred expression here (<ipython-input-99-e976961a1740>, line 1)",
     "output_type": "error",
     "traceback": [
      "\u001b[0;36m  File \u001b[0;32m\"<ipython-input-99-e976961a1740>\"\u001b[0;36m, line \u001b[0;32m1\u001b[0m\n\u001b[0;31m    *[list(constants.values())] * 3\u001b[0m\n\u001b[0m    ^\u001b[0m\n\u001b[0;31mSyntaxError\u001b[0m\u001b[0;31m:\u001b[0m can't use starred expression here\n"
     ]
    }
   ],
   "source": [
    "*[list(constants.values())] * 3"
   ]
  },
  {
   "cell_type": "code",
   "execution_count": 69,
   "metadata": {},
   "outputs": [
    {
     "data": {
      "text/plain": [
       "array([[-0.14266101,  0.03199589],\n",
       "       [-0.72773576,  0.42060547],\n",
       "       [-0.53287533,  0.04518166]])"
      ]
     },
     "execution_count": 69,
     "metadata": {},
     "output_type": "execute_result"
    }
   ],
   "source": [
    "onp.random.uniform((-1, 0), (0, 2), (3, 2))"
   ]
  },
  {
   "cell_type": "code",
   "execution_count": 39,
   "metadata": {},
   "outputs": [
    {
     "data": {
      "text/plain": [
       "array([[5.00000000e-02, 1.00000000e+03, 5.23598776e-04, 5.23598776e-01,\n",
       "        7.00000000e-03],\n",
       "       [5.00000000e-02, 1.00000000e+03, 5.23598776e-04, 5.23598776e-01,\n",
       "        7.00000000e-03],\n",
       "       [5.00000000e-02, 1.00000000e+03, 5.23598776e-04, 5.23598776e-01,\n",
       "        7.00000000e-03]])"
      ]
     },
     "execution_count": 39,
     "metadata": {},
     "output_type": "execute_result"
    }
   ],
   "source": [
    "onp.array([const] * 3)"
   ]
  },
  {
   "cell_type": "code",
   "execution_count": 153,
   "metadata": {},
   "outputs": [],
   "source": [
    "class Controller(nn.Module):\n",
    "    def __init__(self):\n",
    "        super().__init__()\n",
    "        self.controller = nn.Sequential(nn.Linear(5, 20),\n",
    "                                        nn.ReLU(),\n",
    "                                        nn.Linear(20, 50),\n",
    "                                        nn.ReLU(),\n",
    "                                        nn.Linear(50, 2))\n",
    "    \n",
    "    def forward(self, x):\n",
    "        return self.controller(x)"
   ]
  },
  {
   "cell_type": "code",
   "execution_count": 154,
   "metadata": {},
   "outputs": [],
   "source": [
    "ctrl = Controller()\n",
    "opt = torch.optim.Adam(ctrl.parameters())"
   ]
  },
  {
   "cell_type": "code",
   "execution_count": 182,
   "metadata": {
    "scrolled": true
   },
   "outputs": [
    {
     "name": "stdout",
     "output_type": "stream",
     "text": [
      "0.6643249988555908 0.12732074 [[9.413276  4.3436365]\n",
      " [8.1530695 2.9440255]\n",
      " [8.42685   4.041438 ]] [[-0.11271466 -0.11271466]\n",
      " [ 0.11271466 -0.11271466]\n",
      " [ 0.11271466  0.11271466]]\n",
      "0.015748262405395508 0.08209154 [[8.271927  5.327832 ]\n",
      " [9.389867  4.8192487]\n",
      " [6.545953  4.8371186]] [[-0.11271466 -0.11271466]\n",
      " [-0.11271466 -0.11271466]\n",
      " [-0.11271466  0.11271466]]\n",
      "0.015436649322509766 0.03752011 [[9.665913  3.243392 ]\n",
      " [6.4418306 4.9877057]\n",
      " [8.852613  3.6939716]] [[-0.11271466 -0.11271466]\n",
      " [-0.11271466  0.11271466]\n",
      " [-0.11271466 -0.11271466]]\n",
      "0.022728443145751953 0.074985236 [[7.313988  5.1897907]\n",
      " [6.0678377 3.9271722]\n",
      " [7.488154  3.5819144]] [[-0.11271466 -0.11271466]\n",
      " [-0.11271466 -0.11271466]\n",
      " [-0.11271466 -0.11271466]]\n",
      "0.018134355545043945 0.06592026 [[7.9082417 4.2160354]\n",
      " [7.1934    3.1755588]\n",
      " [7.956205  5.136003 ]] [[-0.11271466 -0.11271466]\n",
      " [-0.11271466 -0.11271466]\n",
      " [-0.11271466 -0.11271466]]\n",
      "0.019081592559814453 0.03827107 [[7.155128  3.0498068]\n",
      " [6.5401473 5.010614 ]\n",
      " [9.409466  5.8787456]] [[0.11271466 0.11271466]\n",
      " [0.11271466 0.11271466]\n",
      " [0.11271466 0.11271466]]\n",
      "0.031829833984375 0.07102299 [[8.060773  5.5741687]\n",
      " [9.630511  3.8402605]\n",
      " [9.656319  4.6797132]] [[-0.11271466  0.11271466]\n",
      " [-0.11271466 -0.11271466]\n",
      " [-0.11271466 -0.11271466]]\n",
      "0.02524423599243164 0.09943679 [[8.29624   5.571068 ]\n",
      " [6.5213637 4.11184  ]\n",
      " [9.618078  4.566271 ]] [[-0.11271466  0.11271466]\n",
      " [-0.11271466  0.11271466]\n",
      " [-0.11271466 -0.11271466]]\n",
      "0.02569103240966797 0.021787912 [[8.85101   5.21728  ]\n",
      " [7.2825375 3.800309 ]\n",
      " [9.148414  4.2728286]] [[-0.11271466 -0.11271466]\n",
      " [-0.11271466 -0.11271466]\n",
      " [ 0.11271466  0.11271466]]\n",
      "0.01885080337524414 0.041316986 [[9.303062  3.14548  ]\n",
      " [6.368401  3.7758863]\n",
      " [9.53511   5.2261147]] [[-0.11271466  0.11271466]\n",
      " [ 0.11271466  0.11271466]\n",
      " [ 0.11271466  0.11271466]]\n",
      "0.017678022384643555 0.018506885 [[6.6864123 6.080025 ]\n",
      " [7.959476  4.6490226]\n",
      " [9.4117365 4.265909 ]] [[ 0.11271466  0.11271466]\n",
      " [ 0.11271466  0.11271466]\n",
      " [-0.11271466 -0.11271466]]\n",
      "0.01671600341796875 0.027813047 [[7.708193  3.5401316]\n",
      " [9.3577175 2.8738499]\n",
      " [7.0153604 6.010254 ]] [[-0.11271466 -0.11271466]\n",
      " [-0.11271466  0.11271466]\n",
      " [ 0.11271466  0.11271466]]\n",
      "0.01598215103149414 0.08984348 [[9.768732  4.246091 ]\n",
      " [9.2840395 4.875594 ]\n",
      " [7.6934433 3.4356499]] [[-0.11271466 -0.11271466]\n",
      " [ 0.11271466 -0.11271466]\n",
      " [-0.11271466 -0.11271466]]\n",
      "0.026919126510620117 0.020073563 [[8.891571  5.1792245]\n",
      " [7.555029  3.5132687]\n",
      " [7.651013  5.7982345]] [[ 0.11271466  0.11271466]\n",
      " [ 0.11271466 -0.11271466]\n",
      " [-0.11271466  0.11271466]]\n",
      "0.016773223876953125 0.017225742 [[6.4269915 5.5171485]\n",
      " [6.77606   4.6663175]\n",
      " [7.498668  4.5850825]] [[ 0.11271466  0.11271466]\n",
      " [-0.11271466 -0.11271466]\n",
      " [-0.11271466 -0.11271466]]\n",
      "0.02507162094116211 0.0544208 [[7.588345  3.2758014]\n",
      " [9.809374  4.493364 ]\n",
      " [9.228008  5.195683 ]] [[-0.11271466 -0.11271466]\n",
      " [ 0.11271466 -0.11271466]\n",
      " [ 0.11271466  0.11271466]]\n",
      "0.022164106369018555 0.048444718 [[ 8.326989   6.0356617]\n",
      " [10.030013   3.4629564]\n",
      " [ 9.856978   3.6466553]] [[-0.11271466 -0.11271466]\n",
      " [ 0.11271466 -0.11271466]\n",
      " [ 0.11271466 -0.11271466]]\n",
      "0.026621580123901367 0.041799963 [[6.8040905 2.8009233]\n",
      " [8.621683  4.311233 ]\n",
      " [8.143404  6.1557794]] [[0.11271466 0.11271466]\n",
      " [0.11271466 0.11271466]\n",
      " [0.11271466 0.11271466]]\n",
      "0.013669490814208984 0.03795266 [[9.532799  6.3170204]\n",
      " [8.127927  2.8507164]\n",
      " [8.095404  3.0495713]] [[0.11271466 0.11271466]\n",
      " [0.11271466 0.11271466]\n",
      " [0.11271466 0.11271466]]\n",
      "0.033454179763793945 0.035841048 [[7.522176  4.9524794]\n",
      " [9.84272   4.423158 ]\n",
      " [8.505907  4.3678875]] [[-0.11271466 -0.11271466]\n",
      " [-0.11271466 -0.11271466]\n",
      " [ 0.11271466  0.11271466]]\n"
     ]
    }
   ],
   "source": [
    "from time import time\n",
    "velocity_init = np.array([1., 0.])\n",
    "for step in range(1000):\n",
    "    s = time()\n",
    "    \n",
    "    coordinate_init = np.array(onp.random.uniform(-1., 1., size=(3, 2)))\n",
    "    dist = onp.linalg.norm(coordinate_init - target_coordinate, axis=1).reshape(-1, 1)\n",
    "    direction = (coordinate_init - target_coordinate) / dist\n",
    "\n",
    "    net_inp = torch.cat([torch.from_numpy(onp.array(o)) for o in [direction, coordinate_init, dist]], dim=1)\n",
    "    \n",
    "    \n",
    "    controller_out = ctrl(net_inp)\n",
    "    velocity_init = np.array(controller_out.cpu().data.numpy())\n",
    "    loss_val, v_grad = v_g_loss(coordinate_init, velocity_init, target_coordinate, attractor)\n",
    "    opt.zero_grad()\n",
    "    controller_out.backward(torch.from_numpy(onp.array(v_grad)))\n",
    "    opt.step()\n",
    "    if step % 50 == 0:\n",
    "        print(time() - s, loss_val, velocity_init, v_grad)\n"
   ]
  },
  {
   "cell_type": "code",
   "execution_count": 156,
   "metadata": {},
   "outputs": [
    {
     "data": {
      "text/plain": [
       "tensor([[ 0.1127, -0.1127],\n",
       "        [ 0.1127, -0.1127],\n",
       "        [ 0.1127,  0.1127]])"
      ]
     },
     "execution_count": 156,
     "metadata": {},
     "output_type": "execute_result"
    }
   ],
   "source": [
    "torch.from_numpy(onp.array(v_grad))"
   ]
  },
  {
   "cell_type": "code",
   "execution_count": 195,
   "metadata": {},
   "outputs": [],
   "source": [
    "target_coordinate = np.array([[0.9, 0.5]])\n",
    "coordinate_init = np.array([[-1.2, -0.4]])\n",
    "attractor = np.array([[0., 0.]])\n",
    "\n",
    "dist = onp.linalg.norm(coordinate_init - target_coordinate, axis=1).reshape(-1, 1)\n",
    "direction = (coordinate_init - target_coordinate) / dist\n",
    "net_inp = torch.cat([torch.from_numpy(onp.array(o)) for o in [direction, coordinate_init, dist]], dim=1)\n",
    "\n",
    "controller_out = ctrl(net_inp)\n",
    "velocity_init = np.array(controller_out.cpu().data.numpy())\n"
   ]
  },
  {
   "cell_type": "code",
   "execution_count": 196,
   "metadata": {},
   "outputs": [],
   "source": [
    "final_coordinate, trajectory = run_sim(coordinate_init, velocity_init, attractor, constants)"
   ]
  },
  {
   "cell_type": "code",
   "execution_count": 197,
   "metadata": {},
   "outputs": [],
   "source": [
    "traj = onp.array(trajectory)[:, 0, :]"
   ]
  },
  {
   "cell_type": "code",
   "execution_count": 198,
   "metadata": {},
   "outputs": [
    {
     "name": "stderr",
     "output_type": "stream",
     "text": [
      "<ipython-input-198-569d085adff1>:13: UserWarning: Matplotlib is currently using module://ipykernel.pylab.backend_inline, which is a non-GUI backend, so cannot show the figure.\n",
      "  fig.show()\n"
     ]
    },
    {
     "data": {
      "image/png": "[encoded data removed]",
      "text/plain": [
       "<Figure size 432x288 with 1 Axes>"
      ]
     },
     "metadata": {
      "needs_background": "light"
     },
     "output_type": "display_data"
    }
   ],
   "source": [
    "fig, ax = plt.subplots() # note we must use plt.subplots, not plt.subplot\n",
    "# (or if you have an existing figure)\n",
    "# fig = plt.gcf()\n",
    "# ax = fig.gca()\n",
    "\n",
    "ax.plot(traj[:, 0], traj[:, 1])\n",
    "ax.scatter(attractor[0, 0], attractor[0, 1], c='b', label='attractor')\n",
    "ax.scatter(target_coordinate[0, 0], target_coordinate[0, 1], c='r', label='target')\n",
    "ax.scatter(coordinate_init[0, 0], coordinate_init[0, 1], c='g', label='init')\n",
    "fig.legend()\n",
    "#ax.set_xlim(-0.5, 0.5)\n",
    "#ax.set_ylim(-0.5, 0.5)\n",
    "fig.show()"
   ]
  },
  {
   "cell_type": "code",
   "execution_count": null,
   "metadata": {},
   "outputs": [],
   "source": []
  }
 ],
 "metadata": {
  "kernelspec": {
   "display_name": "Python 3",
   "language": "python",
   "name": "python3"
  },
  "language_info": {
   "codemirror_mode": {
    "name": "ipython",
    "version": 3
   },
   "file_extension": ".py",
   "mimetype": "text/x-python",
   "name": "python",
   "nbconvert_exporter": "python",
   "pygments_lexer": "ipython3",
   "version": "3.8.2"
  }
 },
 "nbformat": 4,
 "nbformat_minor": 4
}
