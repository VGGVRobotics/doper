{
 "cells": [
  {
   "cell_type": "code",
   "execution_count": 1,
   "metadata": {},
   "outputs": [],
   "source": [
    "import matplotlib.pyplot as plt\n",
    "import jax.numpy as np\n",
    "import jax\n",
    "from jax import jit, value_and_grad, grad\n",
    "import numpy as onp\n",
    "import torch\n",
    "import torch.nn as nn"
   ]
  },
  {
   "cell_type": "code",
   "execution_count": 2,
   "metadata": {},
   "outputs": [],
   "source": [
    "@jit\n",
    "def compute_potential_point(coord, target_coord):\n",
    "    return 20 * np.sum((coord - target_coord) ** 2)\n",
    "\n",
    "@jit\n",
    "def compute_rolling_friction_force(velocity, mass, radius, f, g=9.8):\n",
    "    return - np.sign(velocity) * mass * g * radius * f / radius\n",
    "\n",
    "@jit\n",
    "def compute_acceleration(potential_force, friction_force, mass):\n",
    "    return (potential_force + friction_force) / mass\n",
    "\n",
    "@jit\n",
    "def get_new_cv(current_coordinate, current_velocity, acceleration, dt):\n",
    "    new_velocity = current_velocity + acceleration * dt\n",
    "    new_coordinate = current_coordinate + new_velocity * dt\n",
    "    return new_coordinate, new_velocity\n",
    "\n",
    "@jit\n",
    "def run_sim(coordinate_init, velocity_init, target_coordinate, constants):\n",
    "    trajectory = []\n",
    "    sim_time = 0.2\n",
    "    n_steps = 20\n",
    "    dt = sim_time / n_steps\n",
    "    coordinate = coordinate_init\n",
    "    velocity = velocity_init\n",
    "    for t in np.linspace(0, sim_time, n_steps):\n",
    "        trajectory.append(coordinate)\n",
    "        l2_force = - grad(compute_potential_point)(coordinate, target_coordinate)\n",
    "        friction_force = compute_rolling_friction_force(velocity,\n",
    "                                                        constants['mass'],\n",
    "                                                        constants['radius'],\n",
    "                                                        constants['f'])\n",
    "        acceleration = compute_acceleration(l2_force,\n",
    "                                            friction_force,\n",
    "                                            constants['mass'])\n",
    "        coordinate, velocity = get_new_cv(coordinate, velocity, acceleration, dt)\n",
    "    return coordinate, velocity, trajectory\n",
    "\n",
    "@jit\n",
    "def compute_loss(coordinate_init, velocity_init, target_coordinate, attractor, constants):\n",
    "    final_coord, final_velocity, trajectory = run_sim(coordinate_init, velocity_init, attractor, constants)\n",
    "    return np.sum(np.abs(final_coord - target_coordinate))\n",
    "\n",
    "@jit\n",
    "def compute_loss_sequential(coordinate_init, velocity_list, target_coordinate, attractor, constants):\n",
    "    assert len(velocity_list) == 5\n",
    "    coordinate = coordinate_init\n",
    "    for action_id in range(5):\n",
    "        final_coord, final_velocity, trajectory = run_sim(coordinate, velocity_list[action_id], attractor, constants)\n",
    "        coordinate = final_coord\n",
    "    return np.sum(np.abs(final_coord - target_coordinate))\n"
   ]
  },
  {
   "cell_type": "code",
   "execution_count": null,
   "metadata": {},
   "outputs": [],
   "source": []
  },
  {
   "cell_type": "code",
   "execution_count": 3,
   "metadata": {},
   "outputs": [],
   "source": [
    "from collections import namedtuple\n"
   ]
  },
  {
   "cell_type": "code",
   "execution_count": 4,
   "metadata": {},
   "outputs": [],
   "source": [
    "constants = {}\n",
    "constants['radius'] = 0.05\n",
    "constants['ro'] = 1000.\n",
    "constants['volume'] = 4 * np.pi * (constants['radius'] ** 3) / 3\n",
    "constants['mass'] = constants['volume'] * constants['ro']\n",
    "constants['f'] = 0.007\n",
    "const = namedtuple('Constants', list(constants.keys()))\n",
    "target_coordinate = np.array([[0.5, 0.5], [0.5, 0.5], [0.5, 0.5]])\n",
    "coordinate_init = np.array([[0.2, 0.4], [0.2, 0.4], [0.2, 0.4]])\n",
    "velocity_init = np.array([[1., 0.], [1., 0.1], [1., 0.]])\n",
    "attractor = np.array([[0., 0.], [0., 0.], [0., 0.]])\n",
    "\n",
    "#%time trajectory = run_sim(coordinate_init, velocity_init, coordinate_target, sim_time, n_steps)"
   ]
  },
  {
   "cell_type": "code",
   "execution_count": 5,
   "metadata": {},
   "outputs": [],
   "source": [
    "test = jax.vmap(run_sim, in_axes=(0, 0, 0, None))(coordinate_init, velocity_init, target_coordinate, constants)"
   ]
  },
  {
   "cell_type": "code",
   "execution_count": 6,
   "metadata": {},
   "outputs": [
    {
     "data": {
      "text/plain": [
       "(DeviceArray([[0.677606  , 0.52097744],\n",
       "              [0.677606  , 0.5321716 ],\n",
       "              [0.677606  , 0.52097744]], dtype=float32),\n",
       " DeviceArray([[2.441649 , 0.8532523],\n",
       "              [2.441649 , 0.8399593],\n",
       "              [2.441649 , 0.8532523]], dtype=float32),\n",
       " [DeviceArray([[0.2, 0.4],\n",
       "               [0.2, 0.4],\n",
       "               [0.2, 0.4]], dtype=float32),\n",
       "  DeviceArray([[0.21228497, 0.40076396],\n",
       "               [0.21228497, 0.4017571 ],\n",
       "               [0.21228497, 0.40076396]], dtype=float32),\n",
       "  DeviceArray([[0.22676106, 0.40227914],\n",
       "               [0.22676106, 0.40425783],\n",
       "               [0.22676106, 0.40227914]], dtype=float32),\n",
       "  DeviceArray([[0.24331768, 0.404534  ],\n",
       "               [0.24331768, 0.40748313],\n",
       "               [0.24331768, 0.404534  ]], dtype=float32),\n",
       "  DeviceArray([[0.26182836, 0.40751132],\n",
       "               [0.26182836, 0.41140833],\n",
       "               [0.26182836, 0.40751132]], dtype=float32),\n",
       "  DeviceArray([[0.28215167, 0.41118833],\n",
       "               [0.28215167, 0.4160035 ],\n",
       "               [0.28215167, 0.41118833]], dtype=float32),\n",
       "  DeviceArray([[0.30413237, 0.41553697],\n",
       "               [0.30413237, 0.42123348],\n",
       "               [0.30413237, 0.41553697]], dtype=float32),\n",
       "  DeviceArray([[0.3276025 , 0.42052397],\n",
       "               [0.3276025 , 0.4270583 ],\n",
       "               [0.3276025 , 0.42052397]], dtype=float32),\n",
       "  DeviceArray([[0.3523828 , 0.42611128],\n",
       "               [0.3523828 , 0.43343353],\n",
       "               [0.3523828 , 0.42611128]], dtype=float32),\n",
       "  DeviceArray([[0.37828398, 0.4322562 ],\n",
       "               [0.37828398, 0.44031042],\n",
       "               [0.37828398, 0.4322562 ]], dtype=float32),\n",
       "  DeviceArray([[0.40510812, 0.43891177],\n",
       "               [0.40510812, 0.44763646],\n",
       "               [0.40510812, 0.43891177]], dtype=float32),\n",
       "  DeviceArray([[0.43265033, 0.44602716],\n",
       "               [0.43265033, 0.45535564],\n",
       "               [0.43265033, 0.44602716]], dtype=float32),\n",
       "  DeviceArray([[0.46070018, 0.453548  ],\n",
       "               [0.46070018, 0.46340904],\n",
       "               [0.46070018, 0.453548  ]], dtype=float32),\n",
       "  DeviceArray([[0.4890434 , 0.46141687],\n",
       "               [0.4890434 , 0.4717351 ],\n",
       "               [0.4890434 , 0.46141687]], dtype=float32),\n",
       "  DeviceArray([[0.5174635 , 0.46957362],\n",
       "               [0.5174635 , 0.4802702 ],\n",
       "               [0.5174635 , 0.46957362]], dtype=float32),\n",
       "  DeviceArray([[0.5457433 , 0.47795597],\n",
       "               [0.5457433 , 0.4889492 ],\n",
       "               [0.5457433 , 0.47795597]], dtype=float32),\n",
       "  DeviceArray([[0.57366675, 0.48649985],\n",
       "               [0.57366675, 0.49770576],\n",
       "               [0.57366675, 0.48649985]], dtype=float32),\n",
       "  DeviceArray([[0.6010206 , 0.49514002],\n",
       "               [0.6010206 , 0.506473  ],\n",
       "               [0.6010206 , 0.49514002]], dtype=float32),\n",
       "  DeviceArray([[0.62759584, 0.50381047],\n",
       "               [0.62759584, 0.5151839 ],\n",
       "               [0.62759584, 0.50381047]], dtype=float32),\n",
       "  DeviceArray([[0.6531895, 0.5124449],\n",
       "               [0.6531895, 0.523772 ],\n",
       "               [0.6531895, 0.5124449]], dtype=float32)])"
      ]
     },
     "execution_count": 6,
     "metadata": {},
     "output_type": "execute_result"
    }
   ],
   "source": [
    "test"
   ]
  },
  {
   "cell_type": "code",
   "execution_count": 7,
   "metadata": {},
   "outputs": [],
   "source": [
    "target_coordinate = np.array([[0.9, 0.5], [0.9, 0.5], [0.9, 0.5]])\n",
    "coordinate_init = np.array([[0.2, 0.4], [0.2, 0.4], [0.5, 0.4]])\n",
    "velocity_init = np.array([[1., 0.1], [1., 0.], [0., 0.]])\n",
    "attractor = np.array([[0., 0.], [0., 0.], [0., 0.]])\n",
    "\n",
    "# from functools import partial\n",
    "# vmap(partial(compute_loss, config=dictionary))(X[i:i+batch], y[i:i+batch])\n",
    "\n",
    "vmapped_loss = jax.vmap(compute_loss, [0, 0, 0, 0, None])\n",
    "v_g_loss = value_and_grad(lambda c,v,t,a,con: np.sum(vmapped_loss(c,v,t,a,con)), 1)"
   ]
  },
  {
   "cell_type": "code",
   "execution_count": 8,
   "metadata": {},
   "outputs": [
    {
     "data": {
      "text/plain": [
       "(DeviceArray(4.421179, dtype=float32),\n",
       " DeviceArray([[-0.11271466, -0.11271466],\n",
       "              [-0.11271466, -0.11271466],\n",
       "              [-0.11271466, -0.11271466]], dtype=float32))"
      ]
     },
     "execution_count": 8,
     "metadata": {},
     "output_type": "execute_result"
    }
   ],
   "source": [
    "v_g_loss(coordinate_init, velocity_init, target_coordinate, attractor, constants)"
   ]
  },
  {
   "cell_type": "code",
   "execution_count": null,
   "metadata": {},
   "outputs": [],
   "source": []
  },
  {
   "cell_type": "code",
   "execution_count": 20,
   "metadata": {},
   "outputs": [],
   "source": [
    "@jit\n",
    "def func(a, b):\n",
    "    return a * b ** 2, (b, a)"
   ]
  },
  {
   "cell_type": "code",
   "execution_count": 21,
   "metadata": {},
   "outputs": [
    {
     "data": {
      "text/plain": [
       "((DeviceArray(12., dtype=float32),\n",
       "  (DeviceArray(2., dtype=float32), DeviceArray(3., dtype=float32))),\n",
       " DeviceArray(4., dtype=float32))"
      ]
     },
     "execution_count": 21,
     "metadata": {},
     "output_type": "execute_result"
    }
   ],
   "source": [
    "value_and_grad(func, has_aux=True)(3., 2.)"
   ]
  },
  {
   "cell_type": "code",
   "execution_count": 9,
   "metadata": {
    "scrolled": true
   },
   "outputs": [
    {
     "data": {
      "text/plain": [
       "(DeviceArray(4.008059, dtype=float32),\n",
       " [DeviceArray([[-0.00026383, -0.00026383],\n",
       "               [-0.00026383, -0.00026383],\n",
       "               [-0.00026383, -0.00026383]], dtype=float32),\n",
       "  DeviceArray([[0.00119946, 0.00119946],\n",
       "               [0.00119946, 0.00119946],\n",
       "               [0.00119946, 0.00119946]], dtype=float32),\n",
       "  DeviceArray([[-0.0054532, -0.0054532],\n",
       "               [-0.0054532, -0.0054532],\n",
       "               [-0.0054532, -0.0054532]], dtype=float32),\n",
       "  DeviceArray([[0.02479224, 0.02479224],\n",
       "               [0.02479224, 0.02479224],\n",
       "               [0.02479224, 0.02479224]], dtype=float32),\n",
       "  DeviceArray([[-0.11271466, -0.11271466],\n",
       "               [-0.11271466, -0.11271466],\n",
       "               [-0.11271466, -0.11271466]], dtype=float32)])"
      ]
     },
     "execution_count": 9,
     "metadata": {},
     "output_type": "execute_result"
    }
   ],
   "source": [
    "velocity_list = [velocity_init, velocity_init, velocity_init, velocity_init, velocity_init]\n",
    "value_and_grad(compute_loss_sequential, 1)(coordinate_init, velocity_list, target_coordinate, attractor, constants)"
   ]
  },
  {
   "cell_type": "code",
   "execution_count": null,
   "metadata": {},
   "outputs": [],
   "source": [
    "*[list(constants.values())] * 3"
   ]
  },
  {
   "cell_type": "code",
   "execution_count": null,
   "metadata": {},
   "outputs": [],
   "source": [
    "onp.random.uniform((-1, 0), (0, 2), (3, 2))"
   ]
  },
  {
   "cell_type": "code",
   "execution_count": null,
   "metadata": {},
   "outputs": [],
   "source": [
    "onp.array([const] * 3)"
   ]
  },
  {
   "cell_type": "code",
   "execution_count": null,
   "metadata": {},
   "outputs": [],
   "source": [
    "class Controller(nn.Module):\n",
    "    def __init__(self):\n",
    "        super().__init__()\n",
    "        self.controller = nn.Sequential(nn.Linear(5, 20),\n",
    "                                        nn.ReLU(),\n",
    "                                        nn.Linear(20, 50),\n",
    "                                        nn.ReLU(),\n",
    "                                        nn.Linear(50, 2))\n",
    "    \n",
    "    def forward(self, x):\n",
    "        return self.controller(x)"
   ]
  },
  {
   "cell_type": "code",
   "execution_count": null,
   "metadata": {},
   "outputs": [],
   "source": [
    "ctrl = Controller()\n",
    "opt = torch.optim.Adam(ctrl.parameters())"
   ]
  },
  {
   "cell_type": "code",
   "execution_count": null,
   "metadata": {
    "scrolled": true
   },
   "outputs": [],
   "source": [
    "from time import time\n",
    "velocity_init = np.array([1., 0.])\n",
    "for step in range(1000):\n",
    "    s = time()\n",
    "    \n",
    "    coordinate_init = np.array(onp.random.uniform(-1., 1., size=(3, 2)))\n",
    "    dist = onp.linalg.norm(coordinate_init - target_coordinate, axis=1).reshape(-1, 1)\n",
    "    direction = (coordinate_init - target_coordinate) / dist\n",
    "\n",
    "    net_inp = torch.cat([torch.from_numpy(onp.array(o)) for o in [direction, coordinate_init, dist]], dim=1)\n",
    "    \n",
    "    \n",
    "    controller_out = ctrl(net_inp)\n",
    "    velocity_init = np.array(controller_out.cpu().data.numpy())\n",
    "    loss_val, v_grad = v_g_loss(coordinate_init, velocity_init, target_coordinate, attractor)\n",
    "    opt.zero_grad()\n",
    "    controller_out.backward(torch.from_numpy(onp.array(v_grad)))\n",
    "    opt.step()\n",
    "    if step % 50 == 0:\n",
    "        print(time() - s, loss_val, velocity_init, v_grad)\n"
   ]
  },
  {
   "cell_type": "code",
   "execution_count": null,
   "metadata": {},
   "outputs": [],
   "source": [
    "torch.from_numpy(onp.array(v_grad))"
   ]
  },
  {
   "cell_type": "code",
   "execution_count": null,
   "metadata": {},
   "outputs": [],
   "source": [
    "target_coordinate = np.array([[0.9, 0.5]])\n",
    "coordinate_init = np.array([[-1.2, -0.4]])\n",
    "attractor = np.array([[0., 0.]])\n",
    "\n",
    "dist = onp.linalg.norm(coordinate_init - target_coordinate, axis=1).reshape(-1, 1)\n",
    "direction = (coordinate_init - target_coordinate) / dist\n",
    "net_inp = torch.cat([torch.from_numpy(onp.array(o)) for o in [direction, coordinate_init, dist]], dim=1)\n",
    "\n",
    "controller_out = ctrl(net_inp)\n",
    "velocity_init = np.array(controller_out.cpu().data.numpy())\n"
   ]
  },
  {
   "cell_type": "code",
   "execution_count": null,
   "metadata": {},
   "outputs": [],
   "source": [
    "final_coordinate, trajectory = run_sim(coordinate_init, velocity_init, attractor, constants)"
   ]
  },
  {
   "cell_type": "code",
   "execution_count": null,
   "metadata": {},
   "outputs": [],
   "source": [
    "traj = onp.array(trajectory)[:, 0, :]"
   ]
  },
  {
   "cell_type": "code",
   "execution_count": null,
   "metadata": {},
   "outputs": [],
   "source": [
    "fig, ax = plt.subplots() # note we must use plt.subplots, not plt.subplot\n",
    "# (or if you have an existing figure)\n",
    "# fig = plt.gcf()\n",
    "# ax = fig.gca()\n",
    "\n",
    "ax.plot(traj[:, 0], traj[:, 1])\n",
    "ax.scatter(attractor[0, 0], attractor[0, 1], c='b', label='attractor')\n",
    "ax.scatter(target_coordinate[0, 0], target_coordinate[0, 1], c='r', label='target')\n",
    "ax.scatter(coordinate_init[0, 0], coordinate_init[0, 1], c='g', label='init')\n",
    "fig.legend()\n",
    "#ax.set_xlim(-0.5, 0.5)\n",
    "#ax.set_ylim(-0.5, 0.5)\n",
    "fig.show()"
   ]
  },
  {
   "cell_type": "code",
   "execution_count": null,
   "metadata": {},
   "outputs": [],
   "source": []
  }
 ],
 "metadata": {
  "kernelspec": {
   "display_name": "Python 3",
   "language": "python",
   "name": "python3"
  },
  "language_info": {
   "codemirror_mode": {
    "name": "ipython",
    "version": 3
   },
   "file_extension": ".py",
   "mimetype": "text/x-python",
   "name": "python",
   "nbconvert_exporter": "python",
   "pygments_lexer": "ipython3",
   "version": "3.8.2"
  }
 },
 "nbformat": 4,
 "nbformat_minor": 4
}
