{
 "cells": [
  {
   "cell_type": "code",
   "execution_count": 1,
   "metadata": {},
   "outputs": [],
   "source": [
    "import matplotlib.pyplot as plt\n",
    "import jax.numpy as np\n",
    "from jax import jit, value_and_grad, grad\n",
    "import numpy as onp\n",
    "import torch\n",
    "import torch.nn as nn"
   ]
  },
  {
   "cell_type": "code",
   "execution_count": 2,
   "metadata": {},
   "outputs": [],
   "source": [
    "@jit\n",
    "def compute_potential_point(coord, target_coord):\n",
    "    return 20 * np.sum((coord - target_coord) ** 2)\n",
    "\n",
    "@jit\n",
    "def compute_rolling_friction_force(velocity, mass, radius, f, g=9.8):\n",
    "    return - np.sign(velocity) * mass * g * radius * f / radius\n",
    "\n",
    "@jit\n",
    "def compute_acceleration(potential_force, friction_force, mass):\n",
    "    return (potential_force + friction_force) / mass\n",
    "\n",
    "@jit\n",
    "def get_new_cv(current_coordinate, current_velocity, acceleration, dt):\n",
    "    new_velocity = current_velocity + acceleration * dt\n",
    "    new_coordinate = current_coordinate + new_velocity * dt\n",
    "    return new_coordinate, new_velocity\n",
    "\n",
    "@jit\n",
    "def run_sim(coordinate_init, velocity_init, target_coordinate, constants):\n",
    "    trajectory = []\n",
    "    sim_time = 0.2\n",
    "    n_steps = 20\n",
    "    dt = sim_time / n_steps\n",
    "    coordinate = coordinate_init\n",
    "    velocity = velocity_init\n",
    "    for t in np.linspace(0, sim_time, n_steps):\n",
    "        trajectory.append(coordinate)\n",
    "        l2_force = - grad(compute_potential_point)(coordinate, target_coordinate)\n",
    "        friction_force = compute_rolling_friction_force(velocity,\n",
    "                                                        constants['mass'],\n",
    "                                                        constants['radius'],\n",
    "                                                        constants['f'])\n",
    "        acceleration = compute_acceleration(l2_force,\n",
    "                                            friction_force,\n",
    "                                            constants['mass'])\n",
    "        coordinate, velocity = get_new_cv(coordinate, velocity, acceleration, dt)\n",
    "    return coordinate, trajectory\n",
    "\n",
    "@jit\n",
    "def compute_loss(coordinate_init, velocity_init, target_coordinate, attractor, constants):\n",
    "    final_coord, _ = run_sim(coordinate_init, velocity_init, attractor, constants)\n",
    "    return np.sum(np.abs(final_coord - target_coordinate))\n"
   ]
  },
  {
   "cell_type": "code",
   "execution_count": 3,
   "metadata": {},
   "outputs": [],
   "source": [
    "constants = {}\n",
    "constants['radius'] = 0.05\n",
    "constants['ro'] = 1000.\n",
    "constants['volume'] = 4 * np.pi * (constants['radius'] ** 3) / 3\n",
    "constants['mass'] = constants['volume'] * constants['ro']\n",
    "constants['f'] = 0.007\n",
    "\n",
    "target_coordinate = np.array([0.5, 0.5])\n",
    "coordinate_init = np.array([0.2, 0.4])\n",
    "velocity_init = np.array([1., 0.])\n",
    "attractor = np.array([0., 0.])\n",
    "\n",
    "#%time trajectory = run_sim(coordinate_init, velocity_init, coordinate_target, sim_time, n_steps)"
   ]
  },
  {
   "cell_type": "code",
   "execution_count": 4,
   "metadata": {},
   "outputs": [],
   "source": [
    "class Controller(nn.Module):\n",
    "    def __init__(self):\n",
    "        super().__init__()\n",
    "        self.controller = nn.Sequential(nn.Linear(5, 20),\n",
    "                                        nn.ReLU(),\n",
    "                                        nn.Linear(20, 50),\n",
    "                                        nn.ReLU(),\n",
    "                                        nn.Linear(50, 2))\n",
    "    \n",
    "    def forward(self, x):\n",
    "        return self.controller(x)"
   ]
  },
  {
   "cell_type": "code",
   "execution_count": 5,
   "metadata": {},
   "outputs": [],
   "source": [
    "ctrl = Controller()"
   ]
  },
  {
   "cell_type": "code",
   "execution_count": 62,
   "metadata": {},
   "outputs": [
    {
     "name": "stdout",
     "output_type": "stream",
     "text": [
      "0.007105588912963867 0.511162 [2.7983727 2.9540153] [-0.11271466 -0.11271466]\n",
      "0.006380319595336914 0.30887175 [4.487606 4.780789] [0.11271466 0.11271466]\n"
     ]
    }
   ],
   "source": [
    "from time import time\n",
    "opt = torch.optim.Adam(ctrl.parameters())\n",
    "velocity_init = np.array([1., 0.])\n",
    "for step in range(10):\n",
    "    s = time()\n",
    "    \n",
    "    coordinate_init = np.array(onp.random.uniform(-1., 1., size=(2,)))\n",
    "    dist = onp.linalg.norm(coordinate_init - target_coordinate)\n",
    "    direction = (coordinate_init - target_coordinate) / dist\n",
    "    sd = onp.sin(direction)\n",
    "\n",
    "    net_inp = torch.cat([torch.from_numpy(onp.array(o)).view(1, -1) for o in [direction, sd, dist]], dim=1)\n",
    "    \n",
    "    \n",
    "    controller_out = ctrl(net_inp)\n",
    "    velocity_init = np.array(controller_out.cpu().data.numpy()[0])\n",
    "    loss_val, v_grad = value_and_grad(compute_loss, 1)(coordinate_init, velocity_init, target_coordinate, attractor, constants)\n",
    "    opt.zero_grad()\n",
    "    controller_out.backward(torch.from_numpy(onp.array(v_grad))[None, :])\n",
    "    opt.step()\n",
    "    if step % 5 == 0:\n",
    "        print(time() - s, loss_val, velocity_init, v_grad)\n"
   ]
  },
  {
   "cell_type": "code",
   "execution_count": 63,
   "metadata": {},
   "outputs": [],
   "source": [
    "final_coordinate, trajectory = run_sim(coordinate_init, velocity_init, attractor, constants)"
   ]
  },
  {
   "cell_type": "code",
   "execution_count": 64,
   "metadata": {},
   "outputs": [],
   "source": [
    "traj = np.array(trajectory)"
   ]
  },
  {
   "cell_type": "code",
   "execution_count": 65,
   "metadata": {},
   "outputs": [
    {
     "name": "stderr",
     "output_type": "stream",
     "text": [
      "<ipython-input-65-b01971e0e045>:13: UserWarning: Matplotlib is currently using module://ipykernel.pylab.backend_inline, which is a non-GUI backend, so cannot show the figure.\n",
      "  fig.show()\n"
     ]
    },
    {
     "data": {
      "image/png": "[encoded data removed]",
      "text/plain": [
       "<Figure size 432x288 with 1 Axes>"
      ]
     },
     "metadata": {
      "needs_background": "light"
     },
     "output_type": "display_data"
    }
   ],
   "source": [
    "fig, ax = plt.subplots() # note we must use plt.subplots, not plt.subplot\n",
    "# (or if you have an existing figure)\n",
    "# fig = plt.gcf()\n",
    "# ax = fig.gca()\n",
    "\n",
    "ax.plot(traj[:, 0], traj[:, 1])\n",
    "ax.scatter(attractor[0], attractor[1], c='b', label='attractor')\n",
    "ax.scatter(target_coordinate[0], target_coordinate[1], c='r', label='target')\n",
    "ax.scatter(coordinate_init[0], coordinate_init[1], c='g', label='init')\n",
    "fig.legend()\n",
    "#ax.set_xlim(-0.5, 0.5)\n",
    "#ax.set_ylim(-0.5, 0.5)\n",
    "fig.show()"
   ]
  },
  {
   "cell_type": "code",
   "execution_count": null,
   "metadata": {},
   "outputs": [],
   "source": []
  }
 ],
 "metadata": {
  "kernelspec": {
   "display_name": "Python 3",
   "language": "python",
   "name": "python3"
  },
  "language_info": {
   "codemirror_mode": {
    "name": "ipython",
    "version": 3
   },
   "file_extension": ".py",
   "mimetype": "text/x-python",
   "name": "python",
   "nbconvert_exporter": "python",
   "pygments_lexer": "ipython3",
   "version": "3.8.2"
  }
 },
 "nbformat": 4,
 "nbformat_minor": 4
}
